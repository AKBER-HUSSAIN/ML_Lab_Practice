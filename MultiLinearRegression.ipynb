{
  "nbformat": 4,
  "nbformat_minor": 0,
  "metadata": {
    "colab": {
      "provenance": [],
      "mount_file_id": "1korhp2p56I13QB1DTaPZD2y9gYjyX5zm",
      "authorship_tag": "ABX9TyOw7N2AUxNtAtghNkcIbFBd",
      "include_colab_link": true
    },
    "kernelspec": {
      "name": "python3",
      "display_name": "Python 3"
    },
    "language_info": {
      "name": "python"
    }
  },
  "cells": [
    {
      "cell_type": "markdown",
      "metadata": {
        "id": "view-in-github",
        "colab_type": "text"
      },
      "source": [
        "<a href=\"https://colab.research.google.com/github/AKBER-HUSSAIN/ML_Lab_Practice/blob/main/MultiLinearRegression.ipynb\" target=\"_parent\"><img src=\"https://colab.research.google.com/assets/colab-badge.svg\" alt=\"Open In Colab\"/></a>"
      ]
    },
    {
      "cell_type": "code",
      "source": [
        "import pandas as pd\n",
        "from sklearn.model_selection import train_test_split\n",
        "from sklearn.linear_model import LinearRegression\n",
        "from sklearn.metrics import mean_squared_error, r2_score\n",
        "\n",
        "train = pd.read_csv('/content/drive/MyDrive/dataset/Copy of house_price_train.csv')\n",
        "test = pd.read_csv('/content/drive/MyDrive/dataset/Copy of house_price_test.csv')\n",
        "\n",
        "\n",
        "X = train.drop(['SalePrice'], axis=1)\n",
        "y = train['SalePrice']\n",
        "\n",
        "\n",
        "cat_cols = X.select_dtypes(include=['object']).columns\n",
        "X = pd.get_dummies(X, columns=cat_cols, drop_first=True).fillna(0)\n",
        "\n",
        "\n",
        "X_train, X_test, y_train, y_test = train_test_split(X, y, test_size=0.2, random_state=42)\n",
        "\n",
        "\n",
        "model = LinearRegression()\n",
        "model.fit(X_train, y_train)\n",
        "\n",
        "\n",
        "y_pred = model.predict(X_test)\n",
        "\n",
        "\n",
        "mse = mean_squared_error(y_test, y_pred)\n",
        "r2 = r2_score(y_test, y_pred)\n",
        "\n",
        "\n",
        "print(\"\\nMean Squared Error:\", mse)\n",
        "print(\"R-squared:\", r2)\n"
      ],
      "metadata": {
        "colab": {
          "base_uri": "https://localhost:8080/"
        },
        "id": "kv1DftiPSEE7",
        "outputId": "29513249-d152-4805-e771-f0dbaa15a8c2"
      },
      "execution_count": 4,
      "outputs": [
        {
          "output_type": "stream",
          "name": "stdout",
          "text": [
            "\n",
            "Mean Squared Error: 2441571493.06572\n",
            "R-squared: 0.681686094291797\n"
          ]
        }
      ]
    },
    {
      "cell_type": "code",
      "execution_count": 2,
      "metadata": {
        "colab": {
          "base_uri": "https://localhost:8080/"
        },
        "id": "mnwuA-C0Rw95",
        "outputId": "a1002e7c-df30-479c-eba9-f175131e252c"
      },
      "outputs": [
        {
          "output_type": "stream",
          "name": "stdout",
          "text": [
            "\n",
            "Mean Squared Error: 1303361738.3496585\n",
            "R-squared: 0.8300774043836097\n"
          ]
        }
      ],
      "source": [
        "import pandas as pd\n",
        "from sklearn.model_selection import train_test_split\n",
        "from sklearn.linear_model import LinearRegression\n",
        "from sklearn.metrics import mean_squared_error, r2_score\n",
        "\n",
        "\n",
        "train = pd.read_csv('/content/drive/MyDrive/dataset/Copy of house_price_train.csv')\n",
        "test = pd.read_csv('/content/drive/MyDrive/dataset/Copy of house_price_test.csv')\n",
        "\n",
        "\n",
        "X = train.drop(['SalePrice'], axis=1)\n",
        "y = train['SalePrice']\n",
        "\n",
        "\n",
        "X = X.select_dtypes(exclude=['object']).fillna(0)\n",
        "\n",
        "\n",
        "X_train, X_test, y_train, y_test = train_test_split(X, y, test_size=0.2, random_state=42)\n",
        "\n",
        "\n",
        "model = LinearRegression()\n",
        "model.fit(X_train, y_train)\n",
        "\n",
        "\n",
        "y_pred = model.predict(X_test)\n",
        "\n",
        "mse = mean_squared_error(y_test, y_pred)\n",
        "r2 = r2_score(y_test, y_pred)\n",
        "\n",
        "\n",
        "print(\"\\nMean Squared Error:\", mse)\n",
        "print(\"R-squared:\", r2)\n"
      ]
    },
    {
      "cell_type": "code",
      "source": [],
      "metadata": {
        "id": "aRh-hA8sSCWD"
      },
      "execution_count": null,
      "outputs": []
    }
  ]
}