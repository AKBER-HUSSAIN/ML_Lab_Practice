{
  "nbformat": 4,
  "nbformat_minor": 0,
  "metadata": {
    "colab": {
      "provenance": [],
      "authorship_tag": "ABX9TyNV2PSCOkKnYFINPTH4+Bfm",
      "include_colab_link": true
    },
    "kernelspec": {
      "name": "python3",
      "display_name": "Python 3"
    },
    "language_info": {
      "name": "python"
    }
  },
  "cells": [
    {
      "cell_type": "markdown",
      "metadata": {
        "id": "view-in-github",
        "colab_type": "text"
      },
      "source": [
        "<a href=\"https://colab.research.google.com/github/AKBER-HUSSAIN/ML_Lab_Practice/blob/main/wrapper_methods.ipynb\" target=\"_parent\"><img src=\"https://colab.research.google.com/assets/colab-badge.svg\" alt=\"Open In Colab\"/></a>"
      ]
    },
    {
      "cell_type": "code",
      "execution_count": 1,
      "metadata": {
        "colab": {
          "base_uri": "https://localhost:8080/"
        },
        "id": "K-qQ6G_uQHyl",
        "outputId": "a41e847f-4349-4f42-f1b1-fe88ed8a9919"
      },
      "outputs": [
        {
          "output_type": "stream",
          "name": "stdout",
          "text": [
            "Forward Selection Features: ('PassengerId', 'Pclass', 'Sex', 'SibSp', 'Parch')\n"
          ]
        }
      ],
      "source": [
        "import pandas as pd\n",
        "import numpy as np\n",
        "from sklearn.model_selection import train_test_split\n",
        "from sklearn.linear_model import LogisticRegression\n",
        "from mlxtend.feature_selection import SequentialFeatureSelector as SFS\n",
        "\n",
        "# Load Titanic dataset\n",
        "df = pd.read_csv(\"/content/Titanic-Dataset.csv\")\n",
        "\n",
        "# Preprocessing\n",
        "X = df.drop(['Survived','Name','Ticket','Cabin'], axis=1)\n",
        "y = df['Survived']\n",
        "X['Sex'] = np.where(X['Sex']=='male', 0, 1)\n",
        "X['Embarked'] = X['Embarked'].astype('category').cat.codes\n",
        "X = X.fillna(0)\n",
        "\n",
        "# Train-test split\n",
        "X_train, X_test, y_train, y_test = train_test_split(X, y, test_size=0.3, random_state=0)\n",
        "\n",
        "# Model\n",
        "model = LogisticRegression(max_iter=5000)\n",
        "\n",
        "# Forward Selection\n",
        "sfs_forward = SFS(model, k_features=5, forward=True, floating=False, scoring='accuracy', cv=5)\n",
        "sfs_forward.fit(X_train, y_train)\n",
        "\n",
        "print(\"Forward Selection Features:\", sfs_forward.k_feature_names_)\n"
      ]
    },
    {
      "cell_type": "code",
      "source": [
        "import pandas as pd\n",
        "import numpy as np\n",
        "from sklearn.model_selection import train_test_split\n",
        "from sklearn.linear_model import LogisticRegression\n",
        "from mlxtend.feature_selection import SequentialFeatureSelector as SFS\n",
        "\n",
        "# Load Titanic dataset\n",
        "df = pd.read_csv(\"/content/Titanic-Dataset.csv\")\n",
        "\n",
        "# Preprocessing\n",
        "X = df.drop(['Survived','Name','Ticket','Cabin'], axis=1)\n",
        "y = df['Survived']\n",
        "X['Sex'] = np.where(X['Sex']=='male', 0, 1)\n",
        "X['Embarked'] = X['Embarked'].astype('category').cat.codes\n",
        "X = X.fillna(0)\n",
        "\n",
        "# Train-test split\n",
        "X_train, X_test, y_train, y_test = train_test_split(X, y, test_size=0.3, random_state=0)\n",
        "\n",
        "# Model\n",
        "model = LogisticRegression(max_iter=5000)\n",
        "\n",
        "# Backward Elimination\n",
        "sfs_backward = SFS(model, k_features=5, forward=False, floating=False, scoring='accuracy', cv=5)\n",
        "sfs_backward.fit(X_train, y_train)\n",
        "\n",
        "print(\"Backward Elimination Features:\", sfs_backward.k_feature_names_)\n"
      ],
      "metadata": {
        "colab": {
          "base_uri": "https://localhost:8080/"
        },
        "id": "gkZZpeFbQUdj",
        "outputId": "0d3d2f5c-5088-43f1-dacb-c6da3e30f16b"
      },
      "execution_count": 2,
      "outputs": [
        {
          "output_type": "stream",
          "name": "stdout",
          "text": [
            "Backward Elimination Features: ('PassengerId', 'Pclass', 'Sex', 'SibSp', 'Parch')\n"
          ]
        }
      ]
    },
    {
      "cell_type": "code",
      "source": [
        "import pandas as pd\n",
        "import numpy as np\n",
        "from sklearn.model_selection import train_test_split\n",
        "from sklearn.linear_model import LogisticRegression\n",
        "from sklearn.feature_selection import RFE\n",
        "\n",
        "# Load Titanic dataset\n",
        "df = pd.read_csv(\"Titanic-Dataset.csv\")\n",
        "\n",
        "# Preprocessing\n",
        "X = df.drop(['Survived','Name','Ticket','Cabin'], axis=1)\n",
        "y = df['Survived']\n",
        "X['Sex'] = np.where(X['Sex']=='male', 0, 1)\n",
        "X['Embarked'] = X['Embarked'].astype('category').cat.codes\n",
        "X = X.fillna(0)\n",
        "\n",
        "# Train-test split\n",
        "X_train, X_test, y_train, y_test = train_test_split(X, y, test_size=0.3, random_state=0)\n",
        "\n",
        "# Model\n",
        "model = LogisticRegression(max_iter=5000)\n",
        "\n",
        "# Recursive Feature Elimination\n",
        "rfe = RFE(model, n_features_to_select=5)\n",
        "rfe.fit(X_train, y_train)\n",
        "\n",
        "selected_rfe = X_train.columns[rfe.support_]\n",
        "print(\"RFE Selected Features:\", selected_rfe.tolist())\n"
      ],
      "metadata": {
        "colab": {
          "base_uri": "https://localhost:8080/"
        },
        "id": "I_vIqcxKQ9ek",
        "outputId": "065b81c6-444a-4170-a779-f7f5fc58ec22"
      },
      "execution_count": 3,
      "outputs": [
        {
          "output_type": "stream",
          "name": "stdout",
          "text": [
            "RFE Selected Features: ['Pclass', 'Sex', 'SibSp', 'Parch', 'Embarked']\n"
          ]
        }
      ]
    }
  ]
}