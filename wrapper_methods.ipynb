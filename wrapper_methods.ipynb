{
  "nbformat": 4,
  "nbformat_minor": 0,
  "metadata": {
    "colab": {
      "provenance": [],
      "mount_file_id": "1IDu-w2z9n3L0CVvlFKaSMQ5Awo5Ws2PM",
      "authorship_tag": "ABX9TyNo9tiy6Yr62UwWeGwZOasT",
      "include_colab_link": true
    },
    "kernelspec": {
      "name": "python3",
      "display_name": "Python 3"
    },
    "language_info": {
      "name": "python"
    }
  },
  "cells": [
    {
      "cell_type": "markdown",
      "metadata": {
        "id": "view-in-github",
        "colab_type": "text"
      },
      "source": [
        "<a href=\"https://colab.research.google.com/github/AKBER-HUSSAIN/ML_Lab_Practice/blob/main/wrapper_methods.ipynb\" target=\"_parent\"><img src=\"https://colab.research.google.com/assets/colab-badge.svg\" alt=\"Open In Colab\"/></a>"
      ]
    },
    {
      "cell_type": "code",
      "source": [
        "#Forward Selection\n",
        "from mlxtend.feature_selection import SequentialFeatureSelector as SFS\n",
        "from sklearn.linear_model import LogisticRegression\n",
        "import pandas as pd\n",
        "\n",
        "df=pd.read_csv('/content/Titanic-Dataset.csv')\n",
        "target='Survived'\n",
        "X_train=df[df.select_dtypes(include=['number']).columns].drop(columns=[target]).fillna(0)\n",
        "Y_train=df[target]\n",
        "\n",
        "model= LogisticRegression(max_iter=1000)\n",
        "\n",
        "sfs = SFS(model,k_features=5,forward=True,floating=False,scoring='accuracy',cv=5)\n",
        "\n",
        "sfs.fit(X_train,Y_train)\n",
        "\n",
        "print(\"Selected features: \",sfs.k_feature_names_)\n",
        "print(\"CV Accuracy score:\", sfs.k_score_)"
      ],
      "metadata": {
        "colab": {
          "base_uri": "https://localhost:8080/"
        },
        "id": "nDIx9LY7XEPC",
        "outputId": "811ccb26-02df-42ae-d6ea-c525e0ac9342"
      },
      "execution_count": 2,
      "outputs": [
        {
          "output_type": "stream",
          "name": "stdout",
          "text": [
            "Selected features:  ('PassengerId', 'Pclass', 'Age', 'Parch', 'Fare')\n",
            "CV Accuracy score: 0.7049023915636181\n"
          ]
        }
      ]
    },
    {
      "cell_type": "code",
      "source": [
        "#Backward Selection\n",
        "from mlxtend.feature_selection import SequentialFeatureSelector as SFS\n",
        "from sklearn.linear_model import LinearRegression\n",
        "import pandas as pd\n",
        "\n",
        "df=pd.read_csv('//content/drive/MyDrive/dataset/Copy of house_price_train.csv')\n",
        "target='SalePrice'\n",
        "X_train=df[df.select_dtypes(include=['number']).columns].drop(columns=[target]).fillna(0)\n",
        "Y_train=df[target]\n",
        "\n",
        "model= LinearRegression()\n",
        "\n",
        "sfs = SFS(model,k_features=5,forward=False,floating=False,scoring='r2',cv=5)\n",
        "\n",
        "sfs.fit(X_train,Y_train)\n",
        "\n",
        "print(\"Selected features: \",sfs.k_feature_names_)\n",
        "print(\"CV Accuracy score:\", sfs.k_score_)"
      ],
      "metadata": {
        "colab": {
          "base_uri": "https://localhost:8080/"
        },
        "id": "vUUeR7RHXG3J",
        "outputId": "5f523b28-b2a9-4c32-e683-032ac3dd2a74"
      },
      "execution_count": 1,
      "outputs": [
        {
          "output_type": "stream",
          "name": "stdout",
          "text": [
            "Selected features:  ('MSSubClass', 'OverallQual', 'YearBuilt', 'GrLivArea', 'BsmtFullBath')\n",
            "CV Accuracy score: 0.768976918373802\n"
          ]
        }
      ]
    },
    {
      "cell_type": "code",
      "source": [
        "#Exhaustive Search\n",
        "from mlxtend.feature_selection import ExhaustiveFeatureSelector as EFS\n",
        "from sklearn.linear_model import LogisticRegression\n",
        "import pandas as pd\n",
        "\n",
        "df=pd.read_csv('/content/Titanic-Dataset.csv')\n",
        "target='Survived'\n",
        "X_train=df[df.select_dtypes(include=['number']).columns].drop(columns=[target]).fillna(0)\n",
        "Y_train=df[target]\n",
        "\n",
        "model= LogisticRegression(max_iter=1000)\n",
        "\n",
        "efs = EFS(model,max_features=5,min_features=2,scoring='accuracy',cv=5)\n",
        "\n",
        "efs.fit(X_train,Y_train)\n",
        "\n",
        "print(\"Selected features: \",efs.best_feature_names_)\n",
        "print(\"CV Accuracy score:\", efs.best_score_)"
      ],
      "metadata": {
        "colab": {
          "base_uri": "https://localhost:8080/"
        },
        "id": "ghs92AQEXJFy",
        "outputId": "7bb5b818-c09d-4a51-fa9f-7e79bc571d20"
      },
      "execution_count": 3,
      "outputs": [
        {
          "output_type": "stream",
          "name": "stderr",
          "text": [
            "Features: 56/56"
          ]
        },
        {
          "output_type": "stream",
          "name": "stdout",
          "text": [
            "Selected features:  ('Pclass', 'Age', 'Parch', 'Fare')\n",
            "CV Accuracy score: 0.7049023915636181\n"
          ]
        }
      ]
    }
  ]
}