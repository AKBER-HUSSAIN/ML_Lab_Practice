{
  "nbformat": 4,
  "nbformat_minor": 0,
  "metadata": {
    "colab": {
      "provenance": [],
      "mount_file_id": "1xxVDDOz5ChO-sN3NH66_fPpQmPFj5Erj",
      "authorship_tag": "ABX9TyMMIeIuOceSlWjwXA3uCGo0",
      "include_colab_link": true
    },
    "kernelspec": {
      "name": "python3",
      "display_name": "Python 3"
    },
    "language_info": {
      "name": "python"
    }
  },
  "cells": [
    {
      "cell_type": "markdown",
      "metadata": {
        "id": "view-in-github",
        "colab_type": "text"
      },
      "source": [
        "<a href=\"https://colab.research.google.com/github/AKBER-HUSSAIN/ML_Lab_Practice/blob/main/Assignment2/heart_disease.ipynb\" target=\"_parent\"><img src=\"https://colab.research.google.com/assets/colab-badge.svg\" alt=\"Open In Colab\"/></a>"
      ]
    },
    {
      "cell_type": "markdown",
      "source": [
        "**Chosen Research Paper**\n",
        "\n",
        "Title: Heart Disease Prediction using Machine Learning Techniques\n",
        "Authors: Pooja Anbuselvan, Bangalore Institute of Technology\n",
        "Journal: IJERT, Vol. 9 Issue 11, November 2020\n",
        "Dataset: Cleveland Heart Disease Dataset (UCI Repository)\n",
        "Algorithms Used: Logistic Regression, Naive Bayes, SVM, KNN, Decision Tree, Random Forest, XGBoost **bold text**"
      ],
      "metadata": {
        "id": "wdjcXR6tnC10"
      }
    },
    {
      "cell_type": "markdown",
      "source": [
        "**Research Gap Identified**\n",
        "\n",
        "*   No hyperparameter tuning: All algorithms use default parameters.\n",
        "*  No feature extraction/selection: All 14 attributes are used without dimensionality reduction.\n",
        "\n",
        "\n",
        "*   No feature scaling: KNN and SVM models require normalized inputs.\n",
        "*   Single metric evaluation: Only accuracy was compared.\n",
        "\n",
        "*   No validation strategy: Simple 80-20 split was used.\n",
        "\n",
        "\n",
        "\n",
        "\n",
        "\n",
        "\n"
      ],
      "metadata": {
        "id": "-oagxQZrnPMJ"
      }
    },
    {
      "cell_type": "markdown",
      "source": [
        "**Step 1 — Import Libraries**"
      ],
      "metadata": {
        "id": "-F6EOE_TlgNT"
      }
    },
    {
      "cell_type": "code",
      "execution_count": 1,
      "metadata": {
        "id": "Gq16sB9fIrWQ"
      },
      "outputs": [],
      "source": [
        "\n",
        "import pandas as pd\n",
        "import numpy as np\n",
        "from sklearn.model_selection import train   _test_split, GridSearchCV\n",
        "from sklearn.preprocessing import StandardScaler\n",
        "from sklearn.decomposition import PCA\n",
        "from sklearn.metrics import accuracy_score, classification_report, confusion_matrix, roc_auc_score, roc_curve\n",
        "from sklearn.linear_model import LogisticRegression\n",
        "from sklearn.tree import DecisionTreeClassifier\n",
        "from sklearn.neighbors import KNeighborsClassifier\n",
        "from sklearn.svm import SVC\n",
        "from sklearn.ensemble import RandomForestClassifier\n",
        "import matplotlib.pyplot as plt\n",
        "import seaborn as sns\n"
      ]
    },
    {
      "cell_type": "markdown",
      "source": [
        "**Step 2 — Load Dataset**"
      ],
      "metadata": {
        "id": "dU-J69kFl0cT"
      }
    },
    {
      "cell_type": "code",
      "source": [
        "\n",
        "df = pd.read_csv(\"/content/drive/MyDrive/dataset/heart_cleveland_upload.csv\")   # path to your dataset\n",
        "\n",
        "print(df.head())\n",
        "print(df.info())\n",
        "print(df.describe())\n"
      ],
      "metadata": {
        "colab": {
          "base_uri": "https://localhost:8080/"
        },
        "id": "OgIBq4p-kNTS",
        "outputId": "a01a1135-8556-4663-e5a2-25ed3bc16deb"
      },
      "execution_count": 2,
      "outputs": [
        {
          "output_type": "stream",
          "name": "stdout",
          "text": [
            "   age  sex  cp  trestbps  chol  fbs  restecg  thalach  exang  oldpeak  slope  \\\n",
            "0   69    1   0       160   234    1        2      131      0      0.1      1   \n",
            "1   69    0   0       140   239    0        0      151      0      1.8      0   \n",
            "2   66    0   0       150   226    0        0      114      0      2.6      2   \n",
            "3   65    1   0       138   282    1        2      174      0      1.4      1   \n",
            "4   64    1   0       110   211    0        2      144      1      1.8      1   \n",
            "\n",
            "   ca  thal  condition  \n",
            "0   1     0          0  \n",
            "1   2     0          0  \n",
            "2   0     0          0  \n",
            "3   1     0          1  \n",
            "4   0     0          0  \n",
            "<class 'pandas.core.frame.DataFrame'>\n",
            "RangeIndex: 297 entries, 0 to 296\n",
            "Data columns (total 14 columns):\n",
            " #   Column     Non-Null Count  Dtype  \n",
            "---  ------     --------------  -----  \n",
            " 0   age        297 non-null    int64  \n",
            " 1   sex        297 non-null    int64  \n",
            " 2   cp         297 non-null    int64  \n",
            " 3   trestbps   297 non-null    int64  \n",
            " 4   chol       297 non-null    int64  \n",
            " 5   fbs        297 non-null    int64  \n",
            " 6   restecg    297 non-null    int64  \n",
            " 7   thalach    297 non-null    int64  \n",
            " 8   exang      297 non-null    int64  \n",
            " 9   oldpeak    297 non-null    float64\n",
            " 10  slope      297 non-null    int64  \n",
            " 11  ca         297 non-null    int64  \n",
            " 12  thal       297 non-null    int64  \n",
            " 13  condition  297 non-null    int64  \n",
            "dtypes: float64(1), int64(13)\n",
            "memory usage: 32.6 KB\n",
            "None\n",
            "              age         sex          cp    trestbps        chol         fbs  \\\n",
            "count  297.000000  297.000000  297.000000  297.000000  297.000000  297.000000   \n",
            "mean    54.542088    0.676768    2.158249  131.693603  247.350168    0.144781   \n",
            "std      9.049736    0.468500    0.964859   17.762806   51.997583    0.352474   \n",
            "min     29.000000    0.000000    0.000000   94.000000  126.000000    0.000000   \n",
            "25%     48.000000    0.000000    2.000000  120.000000  211.000000    0.000000   \n",
            "50%     56.000000    1.000000    2.000000  130.000000  243.000000    0.000000   \n",
            "75%     61.000000    1.000000    3.000000  140.000000  276.000000    0.000000   \n",
            "max     77.000000    1.000000    3.000000  200.000000  564.000000    1.000000   \n",
            "\n",
            "          restecg     thalach       exang     oldpeak       slope          ca  \\\n",
            "count  297.000000  297.000000  297.000000  297.000000  297.000000  297.000000   \n",
            "mean     0.996633  149.599327    0.326599    1.055556    0.602694    0.676768   \n",
            "std      0.994914   22.941562    0.469761    1.166123    0.618187    0.938965   \n",
            "min      0.000000   71.000000    0.000000    0.000000    0.000000    0.000000   \n",
            "25%      0.000000  133.000000    0.000000    0.000000    0.000000    0.000000   \n",
            "50%      1.000000  153.000000    0.000000    0.800000    1.000000    0.000000   \n",
            "75%      2.000000  166.000000    1.000000    1.600000    1.000000    1.000000   \n",
            "max      2.000000  202.000000    1.000000    6.200000    2.000000    3.000000   \n",
            "\n",
            "             thal   condition  \n",
            "count  297.000000  297.000000  \n",
            "mean     0.835017    0.461279  \n",
            "std      0.956690    0.499340  \n",
            "min      0.000000    0.000000  \n",
            "25%      0.000000    0.000000  \n",
            "50%      0.000000    0.000000  \n",
            "75%      2.000000    1.000000  \n",
            "max      2.000000    1.000000  \n"
          ]
        }
      ]
    },
    {
      "cell_type": "markdown",
      "source": [
        "**Step 3 — Data Pre-processing**"
      ],
      "metadata": {
        "id": "PlOFr8RGl4LG"
      }
    },
    {
      "cell_type": "code",
      "source": [
        "\n",
        "print(df.isnull().sum())\n",
        "\n",
        "\n",
        "X = df.drop('condition', axis=1)\n",
        "y = df['condition']\n",
        "\n",
        "\n",
        "scaler = StandardScaler()\n",
        "X_scaled = scaler.fit_transform(X)\n"
      ],
      "metadata": {
        "colab": {
          "base_uri": "https://localhost:8080/"
        },
        "id": "gXDeODsXkT2S",
        "outputId": "e0c38ab9-f48a-4d43-d2df-88f3e5d4355f"
      },
      "execution_count": 4,
      "outputs": [
        {
          "output_type": "stream",
          "name": "stdout",
          "text": [
            "age          0\n",
            "sex          0\n",
            "cp           0\n",
            "trestbps     0\n",
            "chol         0\n",
            "fbs          0\n",
            "restecg      0\n",
            "thalach      0\n",
            "exang        0\n",
            "oldpeak      0\n",
            "slope        0\n",
            "ca           0\n",
            "thal         0\n",
            "condition    0\n",
            "dtype: int64\n"
          ]
        }
      ]
    },
    {
      "cell_type": "markdown",
      "source": [
        "**Step 4 — Feature Extraction (PCA)**"
      ],
      "metadata": {
        "id": "R4v7Gmg_l4sj"
      }
    },
    {
      "cell_type": "code",
      "source": [
        "\n",
        "pca = PCA(n_components=0.95)\n",
        "X_pca = pca.fit_transform(X_scaled)\n",
        "print(\"Original shape:\", X_scaled.shape)\n",
        "print(\"After PCA:\", X_pca.shape)\n"
      ],
      "metadata": {
        "colab": {
          "base_uri": "https://localhost:8080/"
        },
        "id": "LA1_rkuWkin6",
        "outputId": "15cc477c-02a9-4f3c-9333-c58e79c3b2b6"
      },
      "execution_count": 5,
      "outputs": [
        {
          "output_type": "stream",
          "name": "stdout",
          "text": [
            "Original shape: (297, 13)\n",
            "After PCA: (297, 12)\n"
          ]
        }
      ]
    },
    {
      "cell_type": "markdown",
      "source": [
        "**Step 5 — Train-Test Split**"
      ],
      "metadata": {
        "id": "IVt-xv3Al55B"
      }
    },
    {
      "cell_type": "code",
      "source": [
        "\n",
        "X_train, X_test, y_train, y_test = train_test_split(X_pca, y, test_size=0.2, random_state=42, stratify=y)\n"
      ],
      "metadata": {
        "id": "JrIB1pDpkllb"
      },
      "execution_count": 6,
      "outputs": []
    },
    {
      "cell_type": "markdown",
      "source": [
        "**Step 6 — Define Base Models**"
      ],
      "metadata": {
        "id": "m2VGGFyWl6YQ"
      }
    },
    {
      "cell_type": "code",
      "source": [
        "\n",
        "models = {\n",
        "    \"Logistic Regression\": LogisticRegression(max_iter=200),\n",
        "    \"Decision Tree\": DecisionTreeClassifier(),\n",
        "    \"KNN\": KNeighborsClassifier(),\n",
        "    \"SVM\": SVC(probability=True),\n",
        "    \"Random Forest\": RandomForestClassifier()\n",
        "}\n"
      ],
      "metadata": {
        "id": "I0tyOd6RkoOR"
      },
      "execution_count": 7,
      "outputs": []
    },
    {
      "cell_type": "markdown",
      "source": [
        "**Step 7 — Train and Evaluate Before Tuning**"
      ],
      "metadata": {
        "id": "1EOZWiFWl7Ea"
      }
    },
    {
      "cell_type": "code",
      "source": [
        "\n",
        "for name, model in models.items():\n",
        "    model.fit(X_train, y_train)\n",
        "    y_pred = model.predict(X_test)\n",
        "    acc = accuracy_score(y_test, y_pred)\n",
        "    print(f\"{name}: {acc*100:.2f}%\")\n"
      ],
      "metadata": {
        "colab": {
          "base_uri": "https://localhost:8080/"
        },
        "id": "T4mvQdPnkp5b",
        "outputId": "0933e52d-1d07-40dc-85d4-80d3497071c6"
      },
      "execution_count": 8,
      "outputs": [
        {
          "output_type": "stream",
          "name": "stdout",
          "text": [
            "Logistic Regression: 90.00%\n",
            "Decision Tree: 75.00%\n",
            "KNN: 86.67%\n",
            "SVM: 90.00%\n",
            "Random Forest: 86.67%\n"
          ]
        }
      ]
    },
    {
      "cell_type": "markdown",
      "source": [
        "**Step 8 — Hyperparameter Tuning with GridSearchCV**"
      ],
      "metadata": {
        "id": "spYWBIxVl7_B"
      }
    },
    {
      "cell_type": "code",
      "source": [
        "\n",
        "knn_params = {'n_neighbors': [3,5,7,9,11], 'metric': ['euclidean','manhattan']}\n",
        "grid_knn = GridSearchCV(KNeighborsClassifier(), knn_params, cv=5, scoring='accuracy')\n",
        "grid_knn.fit(X_train, y_train)\n",
        "print(\"Best KNN params:\", grid_knn.best_params_)\n",
        "print(\"Best KNN score:\", grid_knn.best_score_)\n",
        "\n",
        "\n",
        "dt_params = {'criterion': ['gini','entropy'], 'max_depth': [3,5,7,9,11]}\n",
        "grid_dt = GridSearchCV(DecisionTreeClassifier(), dt_params, cv=5, scoring='accuracy')\n",
        "grid_dt.fit(X_train, y_train)\n",
        "print(\"Best DT params:\", grid_dt.best_params_)\n",
        "print(\"Best DT score:\", grid_dt.best_score_)\n",
        "\n",
        "\n",
        "svm_params = {'C':[0.1,1,10], 'kernel':['linear','rbf','poly'], 'gamma':['scale','auto']}\n",
        "grid_svm = GridSearchCV(SVC(probability=True), svm_params, cv=5, scoring='accuracy')\n",
        "grid_svm.fit(X_train, y_train)\n",
        "print(\"Best SVM params:\", grid_svm.best_params_)\n",
        "print(\"Best SVM score:\", grid_svm.best_score_)\n",
        "\n",
        "\n",
        "rf_params = {'n_estimators':[100,200,300], 'max_depth':[4,6,8,10], 'min_samples_leaf':[1,2,4]}\n",
        "grid_rf = GridSearchCV(RandomForestClassifier(), rf_params, cv=5, scoring='accuracy')\n",
        "grid_rf.fit(X_train, y_train)\n",
        "print(\"Best RF params:\", grid_rf.best_params_)\n",
        "print(\"Best RF score:\", grid_rf.best_score_)\n"
      ],
      "metadata": {
        "colab": {
          "base_uri": "https://localhost:8080/"
        },
        "id": "YqadY5zvkt9Z",
        "outputId": "7e9e598e-ceeb-4a05-8235-b32ca7328963"
      },
      "execution_count": 10,
      "outputs": [
        {
          "output_type": "stream",
          "name": "stdout",
          "text": [
            "Best KNN params: {'metric': 'manhattan', 'n_neighbors': 11}\n",
            "Best KNN score: 0.8188829787234042\n",
            "Best DT params: {'criterion': 'entropy', 'max_depth': 3}\n",
            "Best DT score: 0.7723404255319148\n",
            "Best SVM params: {'C': 1, 'gamma': 'auto', 'kernel': 'poly'}\n",
            "Best SVM score: 0.8315602836879433\n",
            "Best RF params: {'max_depth': 10, 'min_samples_leaf': 2, 'n_estimators': 300}\n",
            "Best RF score: 0.8144503546099291\n"
          ]
        }
      ]
    },
    {
      "cell_type": "markdown",
      "source": [
        "**Step 9 — Evaluate Tuned Mod**els"
      ],
      "metadata": {
        "id": "wq6MgsBEl8uh"
      }
    },
    {
      "cell_type": "code",
      "source": [
        "\n",
        "best_models = {\n",
        "    \"KNN\": grid_knn.best_estimator_,\n",
        "    \"Decision Tree\": grid_dt.best_estimator_,\n",
        "    \"SVM\": grid_svm.best_estimator_,\n",
        "    \"Random Forest\": grid_rf.best_estimator_\n",
        "}\n",
        "\n",
        "results = {}\n",
        "for name, model in best_models.items():\n",
        "    y_pred = model.predict(X_test)\n",
        "    acc = accuracy_score(y_test, y_pred)\n",
        "    f1 = classification_report(y_test, y_pred, output_dict=True)['weighted avg']['f1-score']\n",
        "    results[name] = [acc, f1]\n",
        "    print(f\"\\n{name} Results:\")\n",
        "    print(classification_report(y_test, y_pred))\n",
        "    print(confusion_matrix(y_test, y_pred))\n",
        "\n",
        "results_df = pd.DataFrame(results, index=['Accuracy','F1-score']).T\n",
        "print(results_df)\n"
      ],
      "metadata": {
        "colab": {
          "base_uri": "https://localhost:8080/"
        },
        "id": "aSpZjIuBk05T",
        "outputId": "41ca4a2c-44ce-47ee-eb17-c84b743b35fa"
      },
      "execution_count": 11,
      "outputs": [
        {
          "output_type": "stream",
          "name": "stdout",
          "text": [
            "\n",
            "KNN Results:\n",
            "              precision    recall  f1-score   support\n",
            "\n",
            "           0       0.82      1.00      0.90        32\n",
            "           1       1.00      0.75      0.86        28\n",
            "\n",
            "    accuracy                           0.88        60\n",
            "   macro avg       0.91      0.88      0.88        60\n",
            "weighted avg       0.90      0.88      0.88        60\n",
            "\n",
            "[[32  0]\n",
            " [ 7 21]]\n",
            "\n",
            "Decision Tree Results:\n",
            "              precision    recall  f1-score   support\n",
            "\n",
            "           0       0.70      0.97      0.82        32\n",
            "           1       0.94      0.54      0.68        28\n",
            "\n",
            "    accuracy                           0.77        60\n",
            "   macro avg       0.82      0.75      0.75        60\n",
            "weighted avg       0.81      0.77      0.75        60\n",
            "\n",
            "[[31  1]\n",
            " [13 15]]\n",
            "\n",
            "SVM Results:\n",
            "              precision    recall  f1-score   support\n",
            "\n",
            "           0       0.78      1.00      0.88        32\n",
            "           1       1.00      0.68      0.81        28\n",
            "\n",
            "    accuracy                           0.85        60\n",
            "   macro avg       0.89      0.84      0.84        60\n",
            "weighted avg       0.88      0.85      0.84        60\n",
            "\n",
            "[[32  0]\n",
            " [ 9 19]]\n",
            "\n",
            "Random Forest Results:\n",
            "              precision    recall  f1-score   support\n",
            "\n",
            "           0       0.79      0.97      0.87        32\n",
            "           1       0.95      0.71      0.82        28\n",
            "\n",
            "    accuracy                           0.85        60\n",
            "   macro avg       0.87      0.84      0.84        60\n",
            "weighted avg       0.87      0.85      0.85        60\n",
            "\n",
            "[[31  1]\n",
            " [ 8 20]]\n",
            "               Accuracy  F1-score\n",
            "KNN            0.883333  0.880751\n",
            "Decision Tree  0.766667  0.753270\n",
            "SVM            0.850000  0.844885\n",
            "Random Forest  0.850000  0.846680\n"
          ]
        }
      ]
    },
    {
      "cell_type": "markdown",
      "source": [
        "**Step 10 — ROC Curves Visualization**"
      ],
      "metadata": {
        "id": "nZ29JCB9l-Qp"
      }
    },
    {
      "cell_type": "code",
      "source": [
        "plt.figure(figsize=(7,6))\n",
        "for name, model in best_models.items():\n",
        "    y_prob = model.predict_proba(X_test)[:,1]\n",
        "    fpr, tpr, _ = roc_curve(y_test, y_prob)\n",
        "    plt.plot(fpr, tpr, label=f'{name} (AUC = {roc_auc_score(y_test, y_prob):.2f})')\n",
        "\n",
        "plt.plot([0,1],[0,1],'k--')\n",
        "plt.xlabel('False Positive Rate')\n",
        "plt.ylabel('True Positive Rate')\n",
        "plt.title('ROC Curves for Tuned Models')\n",
        "plt.legend()\n",
        "plt.show()\n"
      ],
      "metadata": {
        "colab": {
          "base_uri": "https://localhost:8080/",
          "height": 564
        },
        "id": "eWWndKz4laJr",
        "outputId": "3023425c-f68f-4e9a-c517-453f3197d821"
      },
      "execution_count": 12,
      "outputs": [
        {
          "output_type": "display_data",
          "data": {
            "text/plain": [
              "<Figure size 700x600 with 1 Axes>"
            ],
            "image/png": "[encoded data removed]"
          },
          "metadata": {}
        }
      ]
    }
  ]
}