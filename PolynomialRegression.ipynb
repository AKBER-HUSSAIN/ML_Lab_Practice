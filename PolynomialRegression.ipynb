{
  "nbformat": 4,
  "nbformat_minor": 0,
  "metadata": {
    "colab": {
      "provenance": [],
      "mount_file_id": "1nga1NRMy0ecd_-TPGqnjq5lkDcvBJ9JW",
      "authorship_tag": "ABX9TyPp/fA4ibWT0Jpi1/JZdQk6",
      "include_colab_link": true
    },
    "kernelspec": {
      "name": "python3",
      "display_name": "Python 3"
    },
    "language_info": {
      "name": "python"
    }
  },
  "cells": [
    {
      "cell_type": "markdown",
      "metadata": {
        "id": "view-in-github",
        "colab_type": "text"
      },
      "source": [
        "<a href=\"https://colab.research.google.com/github/AKBER-HUSSAIN/ML_Lab_Practice/blob/main/PolynomialRegression.ipynb\" target=\"_parent\"><img src=\"https://colab.research.google.com/assets/colab-badge.svg\" alt=\"Open In Colab\"/></a>"
      ]
    },
    {
      "cell_type": "code",
      "execution_count": 1,
      "metadata": {
        "colab": {
          "base_uri": "https://localhost:8080/"
        },
        "id": "oFDOZJuVb_DM",
        "outputId": "b0a03a47-0307-4e8e-9fdc-f237988d5895"
      },
      "outputs": [
        {
          "output_type": "stream",
          "name": "stdout",
          "text": [
            "      Bedrooms  Year_Built  Lot_Area    Y Pred  Y test\n",
            "892          3        1963      8414  139228.3  154500\n",
            "1105         3        1994     12256  221259.4  325000\n",
            "413          2        1927      8960  113801.8  115000\n",
            "522          3        1947      5000  107788.5  159000\n",
            "1036         2        2007     12898  253216.6  315500\n",
            "...        ...         ...       ...       ...     ...\n",
            "331          3        1958      8176  131874.6  139000\n",
            "323          3        1955      5820  117967.4  126175\n",
            "650          3        2007      8125  240742.1  205950\n",
            "439          3        1920     12354  137267.4  110000\n",
            "798          4        2008     13518  288802.8  485000\n",
            "\n",
            "[438 rows x 5 columns]\n",
            "MSE:  3480648181.1418314\n",
            "RMSE:  58997.018408914795\n",
            "R2 Score:  0.5012035807507824\n"
          ]
        }
      ],
      "source": [
        "from sklearn.linear_model import LinearRegression\n",
        "from sklearn.preprocessing import PolynomialFeatures\n",
        "from sklearn.metrics import mean_squared_error , r2_score\n",
        "from sklearn.model_selection import train_test_split\n",
        "import pandas as pd\n",
        "\n",
        "df=pd.read_csv('/content/drive/MyDrive/dataset/Copy of house_price_train.csv')\n",
        "X=df[['BedroomAbvGr','YearBuilt','LotArea']]\n",
        "Y=df['SalePrice']\n",
        "X_train,X_test,Y_train,Y_test=train_test_split(X,Y,test_size=0.3,random_state=42)\n",
        "poly=PolynomialFeatures(degree=2)\n",
        "\n",
        "X_poly_train=poly.fit_transform(X_train)\n",
        "X_poly_test=poly.transform(X_test)\n",
        "model=LinearRegression()\n",
        "\n",
        "model.fit(X_poly_train,Y_train)\n",
        "\n",
        "y_pred=model.predict(X_poly_test)\n",
        "\n",
        "y=pd.DataFrame({\"Bedrooms\":X_test['BedroomAbvGr'],\"Year_Built\":X_test['YearBuilt'],\"Lot_Area\":X_test['LotArea'],\"Y Pred\":y_pred.round(1),\"Y test\":Y_test})\n",
        "print(y)\n",
        "\n",
        "mse=mean_squared_error(Y_test,y_pred)\n",
        "rmse=mse**0.5\n",
        "r2=r2_score(Y_test,y_pred)\n",
        "\n",
        "print(\"MSE: \",mse)\n",
        "print(\"RMSE: \",rmse)\n",
        "print(\"R2 Score: \",r2)\n"
      ]
    }
  ]
}