{
  "nbformat": 4,
  "nbformat_minor": 0,
  "metadata": {
    "colab": {
      "provenance": [],
      "mount_file_id": "17AuWUK8VG2R8858D8uueg0UDxXScOomG",
      "authorship_tag": "ABX9TyPu2+MoJJ6lnRF64WycO37o",
      "include_colab_link": true
    },
    "kernelspec": {
      "name": "python3",
      "display_name": "Python 3"
    },
    "language_info": {
      "name": "python"
    }
  },
  "cells": [
    {
      "cell_type": "markdown",
      "metadata": {
        "id": "view-in-github",
        "colab_type": "text"
      },
      "source": [
        "<a href=\"https://colab.research.google.com/github/AKBER-HUSSAIN/ML_Lab_Practice/blob/main/Naive_bayes.ipynb\" target=\"_parent\"><img src=\"https://colab.research.google.com/assets/colab-badge.svg\" alt=\"Open In Colab\"/></a>"
      ]
    },
    {
      "cell_type": "code",
      "execution_count": 19,
      "metadata": {
        "id": "1OONycy3QYOj"
      },
      "outputs": [],
      "source": [
        "import pandas as pd\n",
        "import numpy as np\n",
        "from sklearn.model_selection import train_test_split\n",
        "\n",
        "df = pd.read_csv('/content/drive/MyDrive/dataset/diabetes.csv')\n",
        "\n",
        "df.columns\n",
        "\n",
        "x = df.iloc[:,:-1]\n",
        "y = df.iloc[:,-1]\n",
        "\n",
        "X_train,X_test,y_train,y_test = train_test_split(x,y,test_size=0.2,random_state=42)\n"
      ]
    },
    {
      "cell_type": "markdown",
      "source": [
        "**Splitting Of Dataset**"
      ],
      "metadata": {
        "id": "o5-UeqF7TJcs"
      }
    },
    {
      "cell_type": "code",
      "source": [
        "x = df.iloc[:,:-1]\n",
        "y = df.iloc[:,-1]\n",
        "\n",
        "X_train,X_test,y_train,y_test = train_test_split(x,y,test_size=0.2,random_state=42)"
      ],
      "metadata": {
        "id": "zLO6nkHIUUcb"
      },
      "execution_count": 21,
      "outputs": []
    },
    {
      "cell_type": "markdown",
      "source": [
        "**Model Implementation**"
      ],
      "metadata": {
        "id": "MGCjG-IzWXPp"
      }
    },
    {
      "cell_type": "code",
      "source": [
        "from sklearn.naive_bayes import GaussianNB\n",
        "from sklearn.metrics import accuracy_score,confusion_matrix\n",
        "model = GaussianNB()\n",
        "model.fit(X_train,y_train)\n",
        "\n",
        "y_pred = model.predict(X_test)\n",
        "\n",
        "accuracy = accuracy_score(y_test,y_pred)\n",
        "print(f\"Accuracy Score : {accuracy*100:.2f}%\")\n",
        "\n",
        "Cmatrix = confusion_matrix(y_test,y_pred)\n",
        "print(\"Confusion Matrix :\")\n",
        "print(confusion_matrix)"
      ],
      "metadata": {
        "colab": {
          "base_uri": "https://localhost:8080/"
        },
        "id": "PuMBpRXJWVHR",
        "outputId": "94ea34ea-5748-44e2-c0d2-deac1aa27952"
      },
      "execution_count": 24,
      "outputs": [
        {
          "output_type": "stream",
          "name": "stdout",
          "text": [
            "Accuracy Score : 76.62%\n",
            "Confusion Matrix :\n",
            "<function confusion_matrix at 0x78946f141080>\n"
          ]
        }
      ]
    }
  ]
}