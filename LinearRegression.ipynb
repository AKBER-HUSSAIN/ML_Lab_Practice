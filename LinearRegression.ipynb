{
  "nbformat": 4,
  "nbformat_minor": 0,
  "metadata": {
    "colab": {
      "provenance": [],
      "mount_file_id": "1k4u7NmvnBIIlseSdIhLKZOuZ7b1HazQA",
      "authorship_tag": "ABX9TyOIIv0UqkgWRcrOBD8mODru",
      "include_colab_link": true
    },
    "kernelspec": {
      "name": "python3",
      "display_name": "Python 3"
    },
    "language_info": {
      "name": "python"
    }
  },
  "cells": [
    {
      "cell_type": "markdown",
      "metadata": {
        "id": "view-in-github",
        "colab_type": "text"
      },
      "source": [
        "<a href=\"https://colab.research.google.com/github/AKBER-HUSSAIN/ML_Lab_Practice/blob/main/LinearRegression.ipynb\" target=\"_parent\"><img src=\"https://colab.research.google.com/assets/colab-badge.svg\" alt=\"Open In Colab\"/></a>"
      ]
    },
    {
      "cell_type": "code",
      "source": [
        "import pandas as pd\n",
        "from sklearn.model_selection import train_test_split\n",
        "from sklearn.linear_model import LinearRegression\n",
        "from sklearn.metrics import mean_squared_error, r2_score\n",
        "\n",
        "train = pd.read_csv('/content/drive/MyDrive/dataset/Copy of house_price_train.csv')\n",
        "test = pd.read_csv('/content/drive/MyDrive/dataset/Copy of house_price_test.csv')\n",
        "X = train[['GrLivArea']]\n",
        "y = train['SalePrice']\n",
        "X_train, X_test, y_train, y_test = train_test_split(X,y, test_size=0.2, random_state=42)\n",
        "\n",
        "model = LinearRegression()\n",
        "model.fit(X_train,y_train)\n",
        "\n",
        "y_pred = model.predict(X_test)\n",
        "\n",
        "mse = mean_squared_error(y_test, y_pred)\n",
        "r2 = r2_score(y_test, y_pred)\n",
        "\n",
        "df = pd.DataFrame({'GrLiveArea':X_test['GrLivArea'],'Actual': y_test, 'Predicted': y_pred})\n",
        "print(df)\n",
        "print(\"Mean Squared Error:\", mse)\n",
        "print(\"R-squared:\", r2)\n",
        "\n"
      ],
      "metadata": {
        "colab": {
          "base_uri": "https://localhost:8080/"
        },
        "id": "V6GrHdCLJ5ji",
        "outputId": "27bc7e86-d200-40c9-fec6-77c9a65652bb"
      },
      "execution_count": 40,
      "outputs": [
        {
          "output_type": "stream",
          "name": "stdout",
          "text": [
            "      GrLiveArea  Actual      Predicted\n",
            "892         1068  154500  134357.956280\n",
            "1105        2622  325000  293625.798437\n",
            "413         1028  115000  130258.397924\n",
            "522         1664  159000  195441.375795\n",
            "1036        1620  315500  190931.861602\n",
            "...          ...     ...            ...\n",
            "479         1131   89471  140814.760692\n",
            "1361        1530  260000  181707.855300\n",
            "802         1456  189000  174123.672340\n",
            "651         1510  108000  179658.076122\n",
            "722          864  124500  113450.208661\n",
            "\n",
            "[292 rows x 3 columns]\n",
            "Mean Squared Error: 3418946311.180807\n",
            "R-squared: 0.5542632452871117\n"
          ]
        }
      ]
    },
    {
      "cell_type": "code",
      "source": [],
      "metadata": {
        "id": "CMPPJcN6L01c"
      },
      "execution_count": null,
      "outputs": []
    }
  ]
}