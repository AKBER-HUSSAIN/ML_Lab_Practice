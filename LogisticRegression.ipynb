{
  "nbformat": 4,
  "nbformat_minor": 0,
  "metadata": {
    "colab": {
      "provenance": [],
      "mount_file_id": "1ujtaWMd9RT18ZsyUQk_BzF_sO-RzqZg-",
      "authorship_tag": "ABX9TyOQIAp8pGhxgQ3momKQmHZ8",
      "include_colab_link": true
    },
    "kernelspec": {
      "name": "python3",
      "display_name": "Python 3"
    },
    "language_info": {
      "name": "python"
    }
  },
  "cells": [
    {
      "cell_type": "markdown",
      "metadata": {
        "id": "view-in-github",
        "colab_type": "text"
      },
      "source": [
        "<a href=\"https://colab.research.google.com/github/AKBER-HUSSAIN/ML_Lab_Practice/blob/main/LogisticRegression.ipynb\" target=\"_parent\"><img src=\"https://colab.research.google.com/assets/colab-badge.svg\" alt=\"Open In Colab\"/></a>"
      ]
    },
    {
      "cell_type": "code",
      "execution_count": 1,
      "metadata": {
        "colab": {
          "base_uri": "https://localhost:8080/"
        },
        "id": "9lG-WwdxfHV0",
        "outputId": "4363af02-fe31-49ad-e632-5af58a232f97"
      },
      "outputs": [
        {
          "output_type": "stream",
          "name": "stdout",
          "text": [
            "Accuracy:  0.7164179104477612\n",
            "Confusion Matrix:\n",
            " [[136  21]\n",
            " [ 55  56]]\n",
            "     PassengerId  Pclass   Age  SibSp  Parch     Fare  predicted  Actual\n",
            "709          710       3   0.0      1      1  15.2458          0       1\n",
            "439          440       2  31.0      0      0  10.5000          0       0\n",
            "840          841       3  20.0      0      0   7.9250          0       0\n",
            "720          721       2   6.0      0      1  33.0000          1       1\n",
            "39            40       3  14.0      1      0  11.2417          0       1\n",
            "..           ...     ...   ...    ...    ...      ...        ...     ...\n",
            "821          822       3  27.0      0      0   8.6625          0       1\n",
            "633          634       1   0.0      0      0   0.0000          1       0\n",
            "456          457       1  65.0      0      0  26.5500          0       0\n",
            "500          501       3  17.0      0      0   8.6625          0       0\n",
            "430          431       1  28.0      0      0  26.5500          1       1\n",
            "\n",
            "[268 rows x 8 columns]\n"
          ]
        }
      ],
      "source": [
        "from sklearn.linear_model import LogisticRegression\n",
        "from sklearn.metrics import accuracy_score, confusion_matrix\n",
        "from sklearn.model_selection import train_test_split\n",
        "import pandas as pd\n",
        "\n",
        "df=pd.read_csv('/content/drive/MyDrive/dataset/Copy of titanic_train.csv')\n",
        "target=\"Survived\"\n",
        "X=df[df.select_dtypes(include=['number']).columns].drop(columns=[target]).fillna(0)\n",
        "Y=df[target]\n",
        "\n",
        "X_train,X_test,Y_train,Y_test = train_test_split(X,Y,test_size=0.3,random_state=42)\n",
        "\n",
        "model=LogisticRegression(max_iter=1000)\n",
        "\n",
        "model.fit(X_train,Y_train)\n",
        "\n",
        "y_pred= model.predict(X_test)\n",
        "\n",
        "result=X_test.copy()\n",
        "result['predicted']=y_pred\n",
        "result['Actual']=Y_test.values\n",
        "\n",
        "print(\"Accuracy: \", accuracy_score(Y_test,y_pred))\n",
        "print(\"Confusion Matrix:\\n\",confusion_matrix(Y_test,y_pred))\n",
        "print(result)\n"
      ]
    }
  ]
}