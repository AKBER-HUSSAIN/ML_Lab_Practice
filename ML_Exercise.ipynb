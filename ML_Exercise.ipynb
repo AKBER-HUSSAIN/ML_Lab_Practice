{
  "nbformat": 4,
  "nbformat_minor": 0,
  "metadata": {
    "colab": {
      "provenance": [],
      "authorship_tag": "ABX9TyPqZPKEp0JaBYAG3AQlIy1Z",
      "include_colab_link": true
    },
    "kernelspec": {
      "name": "python3",
      "display_name": "Python 3"
    },
    "language_info": {
      "name": "python"
    }
  },
  "cells": [
    {
      "cell_type": "markdown",
      "metadata": {
        "id": "view-in-github",
        "colab_type": "text"
      },
      "source": [
        "<a href=\"https://colab.research.google.com/github/AKBER-HUSSAIN/ML_Lab_Practice/blob/main/ML_Exercise.ipynb\" target=\"_parent\"><img src=\"https://colab.research.google.com/assets/colab-badge.svg\" alt=\"Open In Colab\"/></a>"
      ]
    },
    {
      "cell_type": "code",
      "execution_count": 2,
      "metadata": {
        "colab": {
          "base_uri": "https://localhost:8080/"
        },
        "id": "8DkW7N426r5n",
        "outputId": "7a810f9b-d139-46c6-f59e-4eaf9347d694"
      },
      "outputs": [
        {
          "output_type": "stream",
          "name": "stdout",
          "text": [
            "(150, 4)\n",
            "sepal length (cm)    float64\n",
            "sepal width (cm)     float64\n",
            "petal length (cm)    float64\n",
            "petal width (cm)     float64\n",
            "dtype: object\n",
            "   sepal length (cm)  sepal width (cm)  petal length (cm)  petal width (cm)\n",
            "0                5.1               3.5                1.4               0.2\n",
            "1                4.9               3.0                1.4               0.2\n",
            "2                4.7               3.2                1.3               0.2\n"
          ]
        }
      ],
      "source": [
        "import pandas as pd\n",
        "from sklearn import datasets\n",
        "\n",
        "\n",
        "iris = datasets.load_iris()\n",
        "\n",
        "iris_df = pd.DataFrame(iris.data, columns=iris.feature_names)\n",
        "\n",
        "\n",
        "print(iris_df.shape)\n",
        "print(iris_df.dtypes)\n",
        "print(iris_df.head(3))\n"
      ]
    },
    {
      "cell_type": "code",
      "source": [
        "print(\"Iris Keys : \",iris_df.keys)\n",
        "print(\"No Of Rows : \",iris_df.shape[0])\n",
        "print(\"No Of Columns\",iris_df.shape[1])\n",
        "\n",
        "print(iris.feature_names)\n",
        "\n",
        "print(iris_df.info())\n",
        "print(iris_df.describe)"
      ],
      "metadata": {
        "colab": {
          "base_uri": "https://localhost:8080/"
        },
        "id": "-EmlcN-w_Le5",
        "outputId": "80278e32-e031-44bb-b200-e69c61e761e6"
      },
      "execution_count": null,
      "outputs": [
        {
          "output_type": "stream",
          "name": "stdout",
          "text": [
            "Iris Keys :  <bound method NDFrame.keys of      sepal length (cm)  sepal width (cm)  petal length (cm)  petal width (cm)\n",
            "0                  5.1               3.5                1.4               0.2\n",
            "1                  4.9               3.0                1.4               0.2\n",
            "2                  4.7               3.2                1.3               0.2\n",
            "3                  4.6               3.1                1.5               0.2\n",
            "4                  5.0               3.6                1.4               0.2\n",
            "..                 ...               ...                ...               ...\n",
            "145                6.7               3.0                5.2               2.3\n",
            "146                6.3               2.5                5.0               1.9\n",
            "147                6.5               3.0                5.2               2.0\n",
            "148                6.2               3.4                5.4               2.3\n",
            "149                5.9               3.0                5.1               1.8\n",
            "\n",
            "[150 rows x 4 columns]>\n",
            "No Of Rows :  150\n",
            "No Of Columns 4\n",
            "['sepal length (cm)', 'sepal width (cm)', 'petal length (cm)', 'petal width (cm)']\n",
            "<class 'pandas.core.frame.DataFrame'>\n",
            "RangeIndex: 150 entries, 0 to 149\n",
            "Data columns (total 4 columns):\n",
            " #   Column             Non-Null Count  Dtype  \n",
            "---  ------             --------------  -----  \n",
            " 0   sepal length (cm)  150 non-null    float64\n",
            " 1   sepal width (cm)   150 non-null    float64\n",
            " 2   petal length (cm)  150 non-null    float64\n",
            " 3   petal width (cm)   150 non-null    float64\n",
            "dtypes: float64(4)\n",
            "memory usage: 4.8 KB\n",
            "None\n",
            "<bound method NDFrame.describe of      sepal length (cm)  sepal width (cm)  petal length (cm)  petal width (cm)\n",
            "0                  5.1               3.5                1.4               0.2\n",
            "1                  4.9               3.0                1.4               0.2\n",
            "2                  4.7               3.2                1.3               0.2\n",
            "3                  4.6               3.1                1.5               0.2\n",
            "4                  5.0               3.6                1.4               0.2\n",
            "..                 ...               ...                ...               ...\n",
            "145                6.7               3.0                5.2               2.3\n",
            "146                6.3               2.5                5.0               1.9\n",
            "147                6.5               3.0                5.2               2.0\n",
            "148                6.2               3.4                5.4               2.3\n",
            "149                5.9               3.0                5.1               1.8\n",
            "\n",
            "[150 rows x 4 columns]>\n"
          ]
        }
      ]
    },
    {
      "cell_type": "code",
      "source": [
        "print(\"Total Number Of Observations : \",iris_df.shape[0])\n",
        "print(\"Total Number of Missing Values\")\n",
        "print(iris_df.isnull().sum())\n",
        "\n",
        "print(\"Total No Of Nan Values\")\n",
        "print(iris_df.isna().sum())"
      ],
      "metadata": {
        "id": "QF5btA2eCKed",
        "colab": {
          "base_uri": "https://localhost:8080/"
        },
        "outputId": "1f01ef57-5a83-4805-e749-a24803426cbf"
      },
      "execution_count": null,
      "outputs": [
        {
          "output_type": "stream",
          "name": "stdout",
          "text": [
            "Number Of Observations :  150\n",
            "Number of Missing Values\n",
            "sepal length (cm)    0\n",
            "sepal width (cm)     0\n",
            "petal length (cm)    0\n",
            "petal width (cm)     0\n",
            "dtype: int64\n",
            "Total No Of Nan Values\n",
            "sepal length (cm)    0\n",
            "sepal width (cm)     0\n",
            "petal length (cm)    0\n",
            "petal width (cm)     0\n",
            "dtype: int64\n"
          ]
        }
      ]
    },
    {
      "cell_type": "code",
      "source": [
        "print(\"Mean of iris data\")\n",
        "print(iris_df.mean())\n",
        "\n",
        "print(\"\\nPercentile of Iris Data\")\n",
        "print(\"25th Percentile\")\n",
        "print(iris_df.quantile(0.25))\n",
        "print(\"50th Percentile\")\n",
        "print(iris_df.quantile(0.50))\n",
        "print(\"75th Percentile\")\n",
        "print(iris_df.quantile(0.75))\n",
        "\n",
        "print(\"\\nStd of Iris data\")\n",
        "print(iris_df.std())"
      ],
      "metadata": {
        "colab": {
          "base_uri": "https://localhost:8080/"
        },
        "id": "hEbxEYtCvwfK",
        "outputId": "a838cf71-f52a-4bde-c3ee-888044bedb96"
      },
      "execution_count": 4,
      "outputs": [
        {
          "output_type": "stream",
          "name": "stdout",
          "text": [
            "Mean of iris data\n",
            "sepal length (cm)    5.843333\n",
            "sepal width (cm)     3.057333\n",
            "petal length (cm)    3.758000\n",
            "petal width (cm)     1.199333\n",
            "dtype: float64\n",
            "\n",
            "Percentile of Iris Data\n",
            "25th Percentile\n",
            "sepal length (cm)    5.1\n",
            "sepal width (cm)     2.8\n",
            "petal length (cm)    1.6\n",
            "petal width (cm)     0.3\n",
            "Name: 0.25, dtype: float64\n",
            "50th Percentile\n",
            "sepal length (cm)    5.80\n",
            "sepal width (cm)     3.00\n",
            "petal length (cm)    4.35\n",
            "petal width (cm)     1.30\n",
            "Name: 0.5, dtype: float64\n",
            "75th Percentile\n",
            "sepal length (cm)    6.4\n",
            "sepal width (cm)     3.3\n",
            "petal length (cm)    5.1\n",
            "petal width (cm)     1.8\n",
            "Name: 0.75, dtype: float64\n",
            "\n",
            "Std of Iris data\n",
            "sepal length (cm)    0.828066\n",
            "sepal width (cm)     0.435866\n",
            "petal length (cm)    1.765298\n",
            "petal width (cm)     0.762238\n",
            "dtype: float64\n"
          ]
        }
      ]
    },
    {
      "cell_type": "code",
      "source": [
        "print(\"\\n Observation Of Iris-\")"
      ],
      "metadata": {
        "id": "8Q4py_iF1Oni"
      },
      "execution_count": null,
      "outputs": []
    }
  ]
}